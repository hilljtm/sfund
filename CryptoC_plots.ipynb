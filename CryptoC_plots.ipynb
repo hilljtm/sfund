{
 "cells": [
  {
   "cell_type": "code",
   "execution_count": 1,
   "metadata": {},
   "outputs": [],
   "source": [
    "# Crypto plot"
   ]
  },
  {
   "cell_type": "code",
   "execution_count": 2,
   "metadata": {},
   "outputs": [],
   "source": [
    "import requests\n",
    "import pandas as pd\n",
    "import numpy as np\n",
    "import matplotlib.pyplot as plt\n",
    "import matplotlib.patches as mpatches\n",
    "import seaborn as sns\n",
    "from pandas.plotting import register_matplotlib_converters\n",
    "register_matplotlib_converters()\n",
    "plt.style.use('seaborn')\n",
    "%matplotlib inline"
   ]
  },
  {
   "cell_type": "code",
   "execution_count": 3,
   "metadata": {},
   "outputs": [
    {
     "data": {
      "text/html": [
       "<div>\n",
       "<style scoped>\n",
       "    .dataframe tbody tr th:only-of-type {\n",
       "        vertical-align: middle;\n",
       "    }\n",
       "\n",
       "    .dataframe tbody tr th {\n",
       "        vertical-align: top;\n",
       "    }\n",
       "\n",
       "    .dataframe thead th {\n",
       "        text-align: right;\n",
       "    }\n",
       "</style>\n",
       "<table border=\"1\" class=\"dataframe\">\n",
       "  <thead>\n",
       "    <tr style=\"text-align: right;\">\n",
       "      <th></th>\n",
       "      <th>time</th>\n",
       "      <th>close</th>\n",
       "      <th>high</th>\n",
       "      <th>low</th>\n",
       "      <th>open</th>\n",
       "      <th>volumefrom</th>\n",
       "      <th>volumeto</th>\n",
       "    </tr>\n",
       "  </thead>\n",
       "  <tbody>\n",
       "    <tr>\n",
       "      <th>0</th>\n",
       "      <td>1573516800</td>\n",
       "      <td>8810.00</td>\n",
       "      <td>8870.00</td>\n",
       "      <td>8556.56</td>\n",
       "      <td>8721.54</td>\n",
       "      <td>5998.48</td>\n",
       "      <td>52309416.10</td>\n",
       "    </tr>\n",
       "    <tr>\n",
       "      <th>1</th>\n",
       "      <td>1573603200</td>\n",
       "      <td>8758.34</td>\n",
       "      <td>8838.80</td>\n",
       "      <td>8705.00</td>\n",
       "      <td>8810.00</td>\n",
       "      <td>4486.28</td>\n",
       "      <td>39248185.72</td>\n",
       "    </tr>\n",
       "    <tr>\n",
       "      <th>2</th>\n",
       "      <td>1573689600</td>\n",
       "      <td>8630.00</td>\n",
       "      <td>8784.61</td>\n",
       "      <td>8558.01</td>\n",
       "      <td>8758.34</td>\n",
       "      <td>5518.64</td>\n",
       "      <td>47735094.39</td>\n",
       "    </tr>\n",
       "    <tr>\n",
       "      <th>3</th>\n",
       "      <td>1573776000</td>\n",
       "      <td>8457.48</td>\n",
       "      <td>8773.22</td>\n",
       "      <td>8361.00</td>\n",
       "      <td>8630.00</td>\n",
       "      <td>10124.29</td>\n",
       "      <td>86235990.88</td>\n",
       "    </tr>\n",
       "    <tr>\n",
       "      <th>4</th>\n",
       "      <td>1573862400</td>\n",
       "      <td>8481.00</td>\n",
       "      <td>8531.03</td>\n",
       "      <td>8423.00</td>\n",
       "      <td>8457.48</td>\n",
       "      <td>2712.34</td>\n",
       "      <td>22976431.85</td>\n",
       "    </tr>\n",
       "  </tbody>\n",
       "</table>\n",
       "</div>"
      ],
      "text/plain": [
       "         time    close     high      low     open  volumefrom     volumeto\n",
       "0  1573516800  8810.00  8870.00  8556.56  8721.54     5998.48  52309416.10\n",
       "1  1573603200  8758.34  8838.80  8705.00  8810.00     4486.28  39248185.72\n",
       "2  1573689600  8630.00  8784.61  8558.01  8758.34     5518.64  47735094.39\n",
       "3  1573776000  8457.48  8773.22  8361.00  8630.00    10124.29  86235990.88\n",
       "4  1573862400  8481.00  8531.03  8423.00  8457.48     2712.34  22976431.85"
      ]
     },
     "execution_count": 3,
     "metadata": {},
     "output_type": "execute_result"
    }
   ],
   "source": [
    "url = \"https://min-api.cryptocompare.com/data/histoday?fsym=BTC&tsym=USD&limit=10&e=Coinbase\"\n",
    "f = requests.get(url)\n",
    "ipdata = f.json()\n",
    "pd.DataFrame(ipdata['Data']).head(5)"
   ]
  },
  {
   "cell_type": "code",
   "execution_count": 4,
   "metadata": {},
   "outputs": [],
   "source": [
    "def get_data(date):\n",
    "    \"\"\"query API for 2000 days historical price data starting from \"date\".\"\"\"\n",
    "    url = \"https://min-api.cryptocompare.com/data/histoday?fsym=BTC&tsym=USD&limit=2000&toTs={}\".format(\n",
    "        date)\n",
    "    r = requests.get(url)\n",
    "    ipdata = r.json()\n",
    "    return ipdata"
   ]
  },
  {
   "cell_type": "code",
   "execution_count": 5,
   "metadata": {},
   "outputs": [],
   "source": [
    "def get_df(from_date, to_date):\n",
    "    date = to_date\n",
    "    holder = []\n",
    "    # while earliest date returned is later than the earliest data requested, keep querying API # and adding results to list\n",
    "    while date > from_date:\n",
    "        data = get_data(date)\n",
    "        holder.append(pd.DataFrame(data['Data']))\n",
    "        date = data['TimeFrom']\n",
    "        # join together all api queries from list\n",
    "        df = pd.concat(holder, axis=0)\n",
    "        # remove data points from before from_date\n",
    "        df = df[df['time'] > from_date]\n",
    "        # convert to timestamp\n",
    "        df['time'] = pd.to_datetime(df['time'], unit='s')\n",
    "        df.set_index('time', inplace=True)\n",
    "        return df"
   ]
  },
  {
   "cell_type": "code",
   "execution_count": 6,
   "metadata": {},
   "outputs": [
    {
     "data": {
      "text/html": [
       "<div>\n",
       "<style scoped>\n",
       "    .dataframe tbody tr th:only-of-type {\n",
       "        vertical-align: middle;\n",
       "    }\n",
       "\n",
       "    .dataframe tbody tr th {\n",
       "        vertical-align: top;\n",
       "    }\n",
       "\n",
       "    .dataframe thead th {\n",
       "        text-align: right;\n",
       "    }\n",
       "</style>\n",
       "<table border=\"1\" class=\"dataframe\">\n",
       "  <thead>\n",
       "    <tr style=\"text-align: right;\">\n",
       "      <th></th>\n",
       "      <th>close</th>\n",
       "    </tr>\n",
       "    <tr>\n",
       "      <th>time</th>\n",
       "      <th></th>\n",
       "    </tr>\n",
       "  </thead>\n",
       "  <tbody>\n",
       "    <tr>\n",
       "      <th>2019-09-26</th>\n",
       "      <td>8074.99</td>\n",
       "    </tr>\n",
       "    <tr>\n",
       "      <th>2019-09-27</th>\n",
       "      <td>8201.36</td>\n",
       "    </tr>\n",
       "    <tr>\n",
       "      <th>2019-09-28</th>\n",
       "      <td>8223.65</td>\n",
       "    </tr>\n",
       "    <tr>\n",
       "      <th>2019-09-29</th>\n",
       "      <td>8065.26</td>\n",
       "    </tr>\n",
       "    <tr>\n",
       "      <th>2019-09-30</th>\n",
       "      <td>8314.62</td>\n",
       "    </tr>\n",
       "  </tbody>\n",
       "</table>\n",
       "</div>"
      ],
      "text/plain": [
       "              close\n",
       "time               \n",
       "2019-09-26  8074.99\n",
       "2019-09-27  8201.36\n",
       "2019-09-28  8223.65\n",
       "2019-09-29  8065.26\n",
       "2019-09-30  8314.62"
      ]
     },
     "execution_count": 6,
     "metadata": {},
     "output_type": "execute_result"
    }
   ],
   "source": [
    "df_sept = get_df(1567296000, 1569801600)\n",
    "df_oct = get_df(1569888000, 1572480000)\n",
    "df_nov = get_df(1572566400, 1574454157)\n",
    "\n",
    "df_sept_a = df_sept[['close']]\n",
    "df_oct_a = df_oct[['close']]\n",
    "df_nov_a = df_nov[['close']]\n",
    "\n",
    "df_sept_a.tail()"
   ]
  },
  {
   "cell_type": "code",
   "execution_count": 7,
   "metadata": {
    "scrolled": true
   },
   "outputs": [
    {
     "data": {
      "image/png": "[encoded data removed]",
      "text/plain": [
       "<Figure size 432x288 with 1 Axes>"
      ]
     },
     "metadata": {
      "needs_background": "light"
     },
     "output_type": "display_data"
    }
   ],
   "source": [
    "plt.plot(df_sept_a, linestyle='dashed', label='September', color='orange')\n",
    "plt.plot(df_oct_a, linestyle='dashed', label='October', color='blue')\n",
    "plt.plot(df_nov_a, linestyle='dashed', label='November', color='red')\n",
    "orange_patch = mpatches.Patch(color='orange', label='Sept')\n",
    "blue_patch = mpatches.Patch(color='blue', label='Oct')\n",
    "red_patch = mpatches.Patch(color='red', label='Nov')\n",
    "plt.legend(handles=[orange_patch, blue_patch, red_patch])\n",
    "plt.xlabel('Date')\n",
    "plt.ylabel('BTC Price (USD)')\n",
    "plt.xticks(rotation='vertical')\n",
    "plt.margins(0.2)\n",
    "plt.show()"
   ]
  }
 ],
 "metadata": {
  "kernelspec": {
   "display_name": "Python 3",
   "language": "python",
   "name": "python3"
  },
  "language_info": {
   "codemirror_mode": {
    "name": "ipython",
    "version": 3
   },
   "file_extension": ".py",
   "mimetype": "text/x-python",
   "name": "python",
   "nbconvert_exporter": "python",
   "pygments_lexer": "ipython3",
   "version": "3.7.2"
  }
 },
 "nbformat": 4,
 "nbformat_minor": 4
}
