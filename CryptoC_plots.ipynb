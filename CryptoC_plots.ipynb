{
 "cells": [
  {
   "cell_type": "code",
   "execution_count": 1,
   "metadata": {},
   "outputs": [],
   "source": [
    "# Crypto plot"
   ]
  },
  {
   "cell_type": "code",
   "execution_count": 2,
   "metadata": {},
   "outputs": [],
   "source": [
    "import requests\n",
    "import pandas as pd\n",
    "import numpy as np\n",
    "import matplotlib.pyplot as plt\n",
    "import matplotlib.patches as mpatches\n",
    "import seaborn as sns\n",
    "from pandas.plotting import register_matplotlib_converters\n",
    "register_matplotlib_converters()\n",
    "plt.style.use('seaborn')\n",
    "%matplotlib inline"
   ]
  },
  {
   "cell_type": "code",
   "execution_count": 3,
   "metadata": {},
   "outputs": [
    {
     "data": {
      "text/html": [
       "<div>\n",
       "<style scoped>\n",
       "    .dataframe tbody tr th:only-of-type {\n",
       "        vertical-align: middle;\n",
       "    }\n",
       "\n",
       "    .dataframe tbody tr th {\n",
       "        vertical-align: top;\n",
       "    }\n",
       "\n",
       "    .dataframe thead th {\n",
       "        text-align: right;\n",
       "    }\n",
       "</style>\n",
       "<table border=\"1\" class=\"dataframe\">\n",
       "  <thead>\n",
       "    <tr style=\"text-align: right;\">\n",
       "      <th></th>\n",
       "      <th>time</th>\n",
       "      <th>close</th>\n",
       "      <th>high</th>\n",
       "      <th>low</th>\n",
       "      <th>open</th>\n",
       "      <th>volumefrom</th>\n",
       "      <th>volumeto</th>\n",
       "    </tr>\n",
       "  </thead>\n",
       "  <tbody>\n",
       "    <tr>\n",
       "      <th>0</th>\n",
       "      <td>1574553600</td>\n",
       "      <td>6908.64</td>\n",
       "      <td>7344.00</td>\n",
       "      <td>6865.00</td>\n",
       "      <td>7329.29</td>\n",
       "      <td>10399.12</td>\n",
       "      <td>7.368713e+07</td>\n",
       "    </tr>\n",
       "    <tr>\n",
       "      <th>1</th>\n",
       "      <td>1574640000</td>\n",
       "      <td>7127.01</td>\n",
       "      <td>7379.99</td>\n",
       "      <td>6526.00</td>\n",
       "      <td>6908.64</td>\n",
       "      <td>26339.93</td>\n",
       "      <td>1.830673e+08</td>\n",
       "    </tr>\n",
       "    <tr>\n",
       "      <th>2</th>\n",
       "      <td>1574726400</td>\n",
       "      <td>7162.67</td>\n",
       "      <td>7340.59</td>\n",
       "      <td>7021.84</td>\n",
       "      <td>7127.01</td>\n",
       "      <td>11809.08</td>\n",
       "      <td>8.439124e+07</td>\n",
       "    </tr>\n",
       "    <tr>\n",
       "      <th>3</th>\n",
       "      <td>1574812800</td>\n",
       "      <td>7523.72</td>\n",
       "      <td>7678.76</td>\n",
       "      <td>6850.00</td>\n",
       "      <td>7162.67</td>\n",
       "      <td>18089.43</td>\n",
       "      <td>1.326784e+08</td>\n",
       "    </tr>\n",
       "    <tr>\n",
       "      <th>4</th>\n",
       "      <td>1574899200</td>\n",
       "      <td>7432.41</td>\n",
       "      <td>7660.82</td>\n",
       "      <td>7370.62</td>\n",
       "      <td>7523.72</td>\n",
       "      <td>8602.08</td>\n",
       "      <td>6.480446e+07</td>\n",
       "    </tr>\n",
       "  </tbody>\n",
       "</table>\n",
       "</div>"
      ],
      "text/plain": [
       "         time    close     high      low     open  volumefrom      volumeto\n",
       "0  1574553600  6908.64  7344.00  6865.00  7329.29    10399.12  7.368713e+07\n",
       "1  1574640000  7127.01  7379.99  6526.00  6908.64    26339.93  1.830673e+08\n",
       "2  1574726400  7162.67  7340.59  7021.84  7127.01    11809.08  8.439124e+07\n",
       "3  1574812800  7523.72  7678.76  6850.00  7162.67    18089.43  1.326784e+08\n",
       "4  1574899200  7432.41  7660.82  7370.62  7523.72     8602.08  6.480446e+07"
      ]
     },
     "execution_count": 3,
     "metadata": {},
     "output_type": "execute_result"
    }
   ],
   "source": [
    "url = \"https://min-api.cryptocompare.com/data/histoday?fsym=BTC&tsym=USD&limit=10&e=Coinbase\"\n",
    "f = requests.get(url)\n",
    "ipdata = f.json()\n",
    "pd.DataFrame(ipdata['Data']).head(5)"
   ]
  },
  {
   "cell_type": "code",
   "execution_count": 4,
   "metadata": {},
   "outputs": [],
   "source": [
    "def get_data(date):\n",
    "    \"\"\"query API for 2000 days historical price data starting from \"date\".\"\"\"\n",
    "    url = \"https://min-api.cryptocompare.com/data/histoday?fsym=BTC&tsym=USD&limit=2000&toTs={}\".format(\n",
    "        date)\n",
    "    r = requests.get(url)\n",
    "    ipdata = r.json()\n",
    "    return ipdata"
   ]
  },
  {
   "cell_type": "code",
   "execution_count": 5,
   "metadata": {},
   "outputs": [],
   "source": [
    "def get_df(from_date, to_date):\n",
    "    date = to_date\n",
    "    holder = []\n",
    "    # while earliest date returned is later than the earliest data requested, keep querying API # and adding results to list\n",
    "    while date > from_date:\n",
    "        data = get_data(date)\n",
    "        holder.append(pd.DataFrame(data['Data']))\n",
    "        date = data['TimeFrom']\n",
    "        # join together all api queries from list\n",
    "        df = pd.concat(holder, axis=0)\n",
    "        # remove data points from before from_date\n",
    "        df = df[df['time'] > from_date]\n",
    "        # convert to timestamp\n",
    "        df['time'] = pd.to_datetime(df['time'], unit='s')\n",
    "        df.set_index('time', inplace=True)\n",
    "        return df"
   ]
  },
  {
   "cell_type": "code",
   "execution_count": 6,
   "metadata": {},
   "outputs": [],
   "source": [
    "df_sept = get_df(1567296000, 1569801600)\n",
    "df_oct = get_df(1569888000, 1572480000)\n",
    "df_nov = get_df(1572566400, 1575294994)\n",
    "df_dec = get_df(1575158400, 1575477457)\n",
    "\n",
    "df_sept_a = df_sept[['close']]\n",
    "df_oct_a = df_oct[['close']]\n",
    "df_nov_a = df_nov[['close']]\n",
    "df_dec_a = df_dec[['close']]"
   ]
  },
  {
   "cell_type": "code",
   "execution_count": 7,
   "metadata": {
    "scrolled": true
   },
   "outputs": [
    {
     "data": {
      "image/png": "[encoded data removed]",
      "text/plain": [
       "<Figure size 432x288 with 1 Axes>"
      ]
     },
     "metadata": {
      "needs_background": "light"
     },
     "output_type": "display_data"
    }
   ],
   "source": [
    "plt.plot(df_sept_a, linestyle='dashed', label='September', color='orange')\n",
    "plt.plot(df_oct_a, linestyle='dashed', label='October', color='blue')\n",
    "plt.plot(df_nov_a, linestyle='dashed', label='November', color='red')\n",
    "plt.plot(df_dec_a, linestyle='dashed', label='December', color='green')\n",
    "orange_patch = mpatches.Patch(color='orange', label='Sept')\n",
    "blue_patch = mpatches.Patch(color='blue', label='Oct')\n",
    "red_patch = mpatches.Patch(color='red', label='Nov')\n",
    "green_patch = mpatches.Patch(color='green', label='Dec')\n",
    "plt.legend(handles=[orange_patch, blue_patch, red_patch, green_patch])\n",
    "plt.xlabel('Date')\n",
    "plt.ylabel('BTC Price (USD)')\n",
    "plt.xticks(rotation='vertical')\n",
    "plt.margins(0.2)\n",
    "plt.show()"
   ]
  }
 ],
 "metadata": {
  "kernelspec": {
   "display_name": "Python 3",
   "language": "python",
   "name": "python3"
  },
  "language_info": {
   "codemirror_mode": {
    "name": "ipython",
    "version": 3
   },
   "file_extension": ".py",
   "mimetype": "text/x-python",
   "name": "python",
   "nbconvert_exporter": "python",
   "pygments_lexer": "ipython3",
   "version": "3.7.2"
  }
 },
 "nbformat": 4,
 "nbformat_minor": 4
}
