{
 "cells": [
  {
   "cell_type": "code",
   "execution_count": 1,
   "metadata": {},
   "outputs": [],
   "source": [
    "# Crypto heatmap"
   ]
  },
  {
   "cell_type": "code",
   "execution_count": 2,
   "metadata": {},
   "outputs": [],
   "source": [
    "import requests\n",
    "import pandas as pd\n",
    "import numpy as np\n",
    "import matplotlib.pyplot as plt\n",
    "import seaborn as sns\n",
    "from pandas.plotting import register_matplotlib_converters\n",
    "register_matplotlib_converters()\n",
    "plt.style.use('ggplot')\n",
    "%matplotlib inline"
   ]
  },
  {
   "cell_type": "code",
   "execution_count": 3,
   "metadata": {},
   "outputs": [
    {
     "data": {
      "text/html": [
       "<div>\n",
       "<style scoped>\n",
       "    .dataframe tbody tr th:only-of-type {\n",
       "        vertical-align: middle;\n",
       "    }\n",
       "\n",
       "    .dataframe tbody tr th {\n",
       "        vertical-align: top;\n",
       "    }\n",
       "\n",
       "    .dataframe thead th {\n",
       "        text-align: right;\n",
       "    }\n",
       "</style>\n",
       "<table border=\"1\" class=\"dataframe\">\n",
       "  <thead>\n",
       "    <tr style=\"text-align: right;\">\n",
       "      <th></th>\n",
       "      <th>time</th>\n",
       "      <th>close</th>\n",
       "      <th>high</th>\n",
       "      <th>low</th>\n",
       "      <th>open</th>\n",
       "      <th>volumefrom</th>\n",
       "      <th>volumeto</th>\n",
       "    </tr>\n",
       "  </thead>\n",
       "  <tbody>\n",
       "    <tr>\n",
       "      <th>0</th>\n",
       "      <td>1572912000</td>\n",
       "      <td>9322.09</td>\n",
       "      <td>9474.89</td>\n",
       "      <td>9169.84</td>\n",
       "      <td>9412.53</td>\n",
       "      <td>7370.45</td>\n",
       "      <td>6.880124e+07</td>\n",
       "    </tr>\n",
       "    <tr>\n",
       "      <th>1</th>\n",
       "      <td>1572998400</td>\n",
       "      <td>9341.27</td>\n",
       "      <td>9450.00</td>\n",
       "      <td>9253.66</td>\n",
       "      <td>9322.09</td>\n",
       "      <td>6804.27</td>\n",
       "      <td>6.351157e+07</td>\n",
       "    </tr>\n",
       "    <tr>\n",
       "      <th>2</th>\n",
       "      <td>1573084800</td>\n",
       "      <td>9198.84</td>\n",
       "      <td>9375.16</td>\n",
       "      <td>9075.00</td>\n",
       "      <td>9341.27</td>\n",
       "      <td>5750.11</td>\n",
       "      <td>5.302495e+07</td>\n",
       "    </tr>\n",
       "    <tr>\n",
       "      <th>3</th>\n",
       "      <td>1573171200</td>\n",
       "      <td>8763.01</td>\n",
       "      <td>9246.00</td>\n",
       "      <td>8660.00</td>\n",
       "      <td>9198.84</td>\n",
       "      <td>11993.34</td>\n",
       "      <td>1.066368e+08</td>\n",
       "    </tr>\n",
       "    <tr>\n",
       "      <th>4</th>\n",
       "      <td>1573257600</td>\n",
       "      <td>8807.89</td>\n",
       "      <td>8873.48</td>\n",
       "      <td>8712.52</td>\n",
       "      <td>8763.01</td>\n",
       "      <td>4175.01</td>\n",
       "      <td>3.672644e+07</td>\n",
       "    </tr>\n",
       "  </tbody>\n",
       "</table>\n",
       "</div>"
      ],
      "text/plain": [
       "         time    close     high      low     open  volumefrom      volumeto\n",
       "0  1572912000  9322.09  9474.89  9169.84  9412.53     7370.45  6.880124e+07\n",
       "1  1572998400  9341.27  9450.00  9253.66  9322.09     6804.27  6.351157e+07\n",
       "2  1573084800  9198.84  9375.16  9075.00  9341.27     5750.11  5.302495e+07\n",
       "3  1573171200  8763.01  9246.00  8660.00  9198.84    11993.34  1.066368e+08\n",
       "4  1573257600  8807.89  8873.48  8712.52  8763.01     4175.01  3.672644e+07"
      ]
     },
     "execution_count": 3,
     "metadata": {},
     "output_type": "execute_result"
    }
   ],
   "source": [
    "url = \"https://min-api.cryptocompare.com/data/histoday?fsym=BTC&tsym=USD&limit=10&e=Coinbase\"\n",
    "f = requests.get(url)\n",
    "ipdata = f.json()\n",
    "pd.DataFrame(ipdata['Data']).head(5)"
   ]
  },
  {
   "cell_type": "code",
   "execution_count": 4,
   "metadata": {},
   "outputs": [],
   "source": [
    "def get_data(date):\n",
    "    \"\"\"query API for 2000 days historical price data starting from \"date\".\"\"\"\n",
    "    url = \"https://min-api.cryptocompare.com/data/histoday?fsym=BTC&tsym=USD&limit=2000&toTs={}\".format(\n",
    "        date)\n",
    "    r = requests.get(url)\n",
    "    ipdata = r.json()\n",
    "    return ipdata"
   ]
  },
  {
   "cell_type": "code",
   "execution_count": 20,
   "metadata": {},
   "outputs": [],
   "source": [
    "def get_df(from_date, to_date):\n",
    "    date = to_date\n",
    "    holder = []\n",
    "    # while earliest date returned is later than the earliest data requested, keep querying API # and adding results to list\n",
    "    while date > from_date:\n",
    "        data = get_data(date)\n",
    "        holder.append(pd.DataFrame(data['Data']))\n",
    "        date = data['TimeFrom']\n",
    "        # join together all api queries from list\n",
    "        df = pd.concat(holder, axis=0)\n",
    "        # remove data points from before from_date\n",
    "        df = df[df['time'] > from_date]\n",
    "        # convert to timestamp\n",
    "        df['time'] = pd.to_datetime(df['time'], unit='s')\n",
    "        return df"
   ]
  },
  {
   "cell_type": "code",
   "execution_count": 21,
   "metadata": {},
   "outputs": [
    {
     "data": {
      "text/html": [
       "<div>\n",
       "<style scoped>\n",
       "    .dataframe tbody tr th:only-of-type {\n",
       "        vertical-align: middle;\n",
       "    }\n",
       "\n",
       "    .dataframe tbody tr th {\n",
       "        vertical-align: top;\n",
       "    }\n",
       "\n",
       "    .dataframe thead th {\n",
       "        text-align: right;\n",
       "    }\n",
       "</style>\n",
       "<table border=\"1\" class=\"dataframe\">\n",
       "  <thead>\n",
       "    <tr style=\"text-align: right;\">\n",
       "      <th></th>\n",
       "      <th>close</th>\n",
       "      <th>time</th>\n",
       "    </tr>\n",
       "  </thead>\n",
       "  <tbody>\n",
       "    <tr>\n",
       "      <th>1996</th>\n",
       "      <td>8074.99</td>\n",
       "      <td>2019-09-26</td>\n",
       "    </tr>\n",
       "    <tr>\n",
       "      <th>1997</th>\n",
       "      <td>8201.36</td>\n",
       "      <td>2019-09-27</td>\n",
       "    </tr>\n",
       "    <tr>\n",
       "      <th>1998</th>\n",
       "      <td>8223.65</td>\n",
       "      <td>2019-09-28</td>\n",
       "    </tr>\n",
       "    <tr>\n",
       "      <th>1999</th>\n",
       "      <td>8065.26</td>\n",
       "      <td>2019-09-29</td>\n",
       "    </tr>\n",
       "    <tr>\n",
       "      <th>2000</th>\n",
       "      <td>8314.62</td>\n",
       "      <td>2019-09-30</td>\n",
       "    </tr>\n",
       "  </tbody>\n",
       "</table>\n",
       "</div>"
      ],
      "text/plain": [
       "        close       time\n",
       "1996  8074.99 2019-09-26\n",
       "1997  8201.36 2019-09-27\n",
       "1998  8223.65 2019-09-28\n",
       "1999  8065.26 2019-09-29\n",
       "2000  8314.62 2019-09-30"
      ]
     },
     "execution_count": 21,
     "metadata": {},
     "output_type": "execute_result"
    }
   ],
   "source": [
    "df_sept = get_df(1567296000, 1569801600)\n",
    "df_oct = get_df(1569888000, 1572480000)\n",
    "df_nov = get_df(1572566400, 1573848074)\n",
    "\n",
    "df_sept_a = df_sept[['close', 'time']]\n",
    "df_oct_a = df_oct[['close', 'time']]\n",
    "df_nov_a = df_nov[['close', 'time']]\n",
    "\n",
    "df_sept_a.tail()"
   ]
  },
  {
   "cell_type": "code",
   "execution_count": 22,
   "metadata": {
    "scrolled": true
   },
   "outputs": [
    {
     "data": {
      "image/png": "[encoded data removed]",
      "text/plain": [
       "<Figure size 432x288 with 1 Axes>"
      ]
     },
     "metadata": {
      "needs_background": "light"
     },
     "output_type": "display_data"
    }
   ],
   "source": [
    "plt.plot(df_sept_a)\n",
    "plt.xlabel('Date')\n",
    "plt.ylabel('BTC Price (USD)')\n",
    "plt.legend(['Close'])\n",
    "\n",
    "plt.plot(df_oct_a)\n",
    "\n",
    "plt.plot(df_nov_a)\n",
    "plt.show()"
   ]
  },
  {
   "cell_type": "code",
   "execution_count": null,
   "metadata": {},
   "outputs": [],
   "source": []
  }
 ],
 "metadata": {
  "kernelspec": {
   "display_name": "Python 3",
   "language": "python",
   "name": "python3"
  },
  "language_info": {
   "codemirror_mode": {
    "name": "ipython",
    "version": 3
   },
   "file_extension": ".py",
   "mimetype": "text/x-python",
   "name": "python",
   "nbconvert_exporter": "python",
   "pygments_lexer": "ipython3",
   "version": "3.7.2"
  }
 },
 "nbformat": 4,
 "nbformat_minor": 4
}
