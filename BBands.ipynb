{
 "cells": [
  {
   "cell_type": "code",
   "execution_count": 1,
   "metadata": {},
   "outputs": [],
   "source": [
    "import pandas as pd\n",
    "import numpy as np\n",
    "import matplotlib.pyplot as plt\n",
    "import seaborn as sns\n",
    "plt.style.use('ggplot')\n",
    "%matplotlib inline"
   ]
  },
  {
   "cell_type": "code",
   "execution_count": 2,
   "metadata": {},
   "outputs": [
    {
     "data": {
      "text/html": [
       "<div>\n",
       "<style scoped>\n",
       "    .dataframe tbody tr th:only-of-type {\n",
       "        vertical-align: middle;\n",
       "    }\n",
       "\n",
       "    .dataframe tbody tr th {\n",
       "        vertical-align: top;\n",
       "    }\n",
       "\n",
       "    .dataframe thead th {\n",
       "        text-align: right;\n",
       "    }\n",
       "</style>\n",
       "<table border=\"1\" class=\"dataframe\">\n",
       "  <thead>\n",
       "    <tr style=\"text-align: right;\">\n",
       "      <th></th>\n",
       "      <th>time</th>\n",
       "      <th>fromsymbol</th>\n",
       "      <th>tosymbol</th>\n",
       "      <th>open</th>\n",
       "      <th>high</th>\n",
       "      <th>low</th>\n",
       "      <th>close</th>\n",
       "      <th>volume_from</th>\n",
       "      <th>volume_to</th>\n",
       "    </tr>\n",
       "  </thead>\n",
       "  <tbody>\n",
       "    <tr>\n",
       "      <th>0</th>\n",
       "      <td>1563667200</td>\n",
       "      <td>BTC</td>\n",
       "      <td>USD</td>\n",
       "      <td>10764.239649</td>\n",
       "      <td>10770.285645</td>\n",
       "      <td>10755.804323</td>\n",
       "      <td>10755.804323</td>\n",
       "      <td>29.303925</td>\n",
       "      <td>3.155317e+05</td>\n",
       "    </tr>\n",
       "    <tr>\n",
       "      <th>1</th>\n",
       "      <td>1563667260</td>\n",
       "      <td>BTC</td>\n",
       "      <td>USD</td>\n",
       "      <td>10755.804323</td>\n",
       "      <td>10758.616456</td>\n",
       "      <td>10749.186409</td>\n",
       "      <td>10750.826531</td>\n",
       "      <td>53.944469</td>\n",
       "      <td>5.795079e+05</td>\n",
       "    </tr>\n",
       "    <tr>\n",
       "      <th>2</th>\n",
       "      <td>1563667320</td>\n",
       "      <td>BTC</td>\n",
       "      <td>USD</td>\n",
       "      <td>10750.826531</td>\n",
       "      <td>10750.082678</td>\n",
       "      <td>10736.635436</td>\n",
       "      <td>10736.635436</td>\n",
       "      <td>61.728539</td>\n",
       "      <td>6.623754e+05</td>\n",
       "    </tr>\n",
       "    <tr>\n",
       "      <th>3</th>\n",
       "      <td>1563667380</td>\n",
       "      <td>BTC</td>\n",
       "      <td>USD</td>\n",
       "      <td>10736.635436</td>\n",
       "      <td>10737.067952</td>\n",
       "      <td>10700.073477</td>\n",
       "      <td>10701.656328</td>\n",
       "      <td>207.913147</td>\n",
       "      <td>2.226079e+06</td>\n",
       "    </tr>\n",
       "    <tr>\n",
       "      <th>4</th>\n",
       "      <td>1563667440</td>\n",
       "      <td>BTC</td>\n",
       "      <td>USD</td>\n",
       "      <td>10701.656328</td>\n",
       "      <td>10718.424974</td>\n",
       "      <td>10703.879943</td>\n",
       "      <td>10712.512480</td>\n",
       "      <td>132.777271</td>\n",
       "      <td>1.420546e+06</td>\n",
       "    </tr>\n",
       "  </tbody>\n",
       "</table>\n",
       "</div>"
      ],
      "text/plain": [
       "         time fromsymbol tosymbol          open          high           low  \\\n",
       "0  1563667200        BTC      USD  10764.239649  10770.285645  10755.804323   \n",
       "1  1563667260        BTC      USD  10755.804323  10758.616456  10749.186409   \n",
       "2  1563667320        BTC      USD  10750.826531  10750.082678  10736.635436   \n",
       "3  1563667380        BTC      USD  10736.635436  10737.067952  10700.073477   \n",
       "4  1563667440        BTC      USD  10701.656328  10718.424974  10703.879943   \n",
       "\n",
       "          close  volume_from     volume_to  \n",
       "0  10755.804323    29.303925  3.155317e+05  \n",
       "1  10750.826531    53.944469  5.795079e+05  \n",
       "2  10736.635436    61.728539  6.623754e+05  \n",
       "3  10701.656328   207.913147  2.226079e+06  \n",
       "4  10712.512480   132.777271  1.420546e+06  "
      ]
     },
     "execution_count": 2,
     "metadata": {},
     "output_type": "execute_result"
    }
   ],
   "source": [
    "# Load csv in data frame and print first 5 rows\n",
    "df = pd.read_csv('minutebtc.csv')\n",
    "df.head()"
   ]
  },
  {
   "cell_type": "code",
   "execution_count": 3,
   "metadata": {},
   "outputs": [],
   "source": [
    "# Select the columns wanted and store it in variable btc\n",
    "btc = df[['time', 'open', 'high', 'low', 'close']]"
   ]
  },
  {
   "cell_type": "code",
   "execution_count": 5,
   "metadata": {},
   "outputs": [
    {
     "data": {
      "text/plain": [
       "<matplotlib.axes._subplots.AxesSubplot at 0x11ccf5a90>"
      ]
     },
     "execution_count": 5,
     "metadata": {},
     "output_type": "execute_result"
    },
    {
     "data": {
      "image/png": "[encoded data removed]",
      "text/plain": [
       "<Figure size 432x288 with 1 Axes>"
      ]
     },
     "metadata": {
      "needs_background": "light"
     },
     "output_type": "display_data"
    }
   ],
   "source": [
    "import seaborn as sns;\n",
    "import matplotlib.pyplot as plt\n",
    "%matplotlib inline\n",
    "\n",
    "sns.boxplot(x=\"time\", y=\"close\", data=btc, palette=\"Set1\")"
   ]
  },
  {
   "cell_type": "code",
   "execution_count": null,
   "metadata": {},
   "outputs": [],
   "source": []
  }
 ],
 "metadata": {
  "kernelspec": {
   "display_name": "Python 3",
   "language": "python",
   "name": "python3"
  },
  "language_info": {
   "codemirror_mode": {
    "name": "ipython",
    "version": 3
   },
   "file_extension": ".py",
   "mimetype": "text/x-python",
   "name": "python",
   "nbconvert_exporter": "python",
   "pygments_lexer": "ipython3",
   "version": "3.7.2"
  }
 },
 "nbformat": 4,
 "nbformat_minor": 2
}
