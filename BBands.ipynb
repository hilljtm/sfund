{
 "cells": [
  {
   "cell_type": "code",
   "execution_count": 1,
   "metadata": {},
   "outputs": [],
   "source": [
    "import requests\n",
    "import pandas as pd\n",
    "import numpy as np\n",
    "import matplotlib.pyplot as plt\n",
    "import seaborn as sns\n",
    "plt.style.use('ggplot')\n",
    "%matplotlib inline"
   ]
  },
  {
   "cell_type": "code",
   "execution_count": 2,
   "metadata": {},
   "outputs": [
    {
     "data": {
      "text/html": [
       "<div>\n",
       "<style scoped>\n",
       "    .dataframe tbody tr th:only-of-type {\n",
       "        vertical-align: middle;\n",
       "    }\n",
       "\n",
       "    .dataframe tbody tr th {\n",
       "        vertical-align: top;\n",
       "    }\n",
       "\n",
       "    .dataframe thead th {\n",
       "        text-align: right;\n",
       "    }\n",
       "</style>\n",
       "<table border=\"1\" class=\"dataframe\">\n",
       "  <thead>\n",
       "    <tr style=\"text-align: right;\">\n",
       "      <th></th>\n",
       "      <th>close</th>\n",
       "      <th>high</th>\n",
       "      <th>low</th>\n",
       "      <th>open</th>\n",
       "      <th>time</th>\n",
       "      <th>volumefrom</th>\n",
       "      <th>volumeto</th>\n",
       "    </tr>\n",
       "  </thead>\n",
       "  <tbody>\n",
       "    <tr>\n",
       "      <th>0</th>\n",
       "      <td>9422.72</td>\n",
       "      <td>11040.00</td>\n",
       "      <td>9350.00</td>\n",
       "      <td>10854.47</td>\n",
       "      <td>1563235200</td>\n",
       "      <td>39003.84</td>\n",
       "      <td>3.913329e+08</td>\n",
       "    </tr>\n",
       "    <tr>\n",
       "      <th>1</th>\n",
       "      <td>9696.31</td>\n",
       "      <td>9998.00</td>\n",
       "      <td>9071.00</td>\n",
       "      <td>9422.72</td>\n",
       "      <td>1563321600</td>\n",
       "      <td>34221.67</td>\n",
       "      <td>3.270446e+08</td>\n",
       "    </tr>\n",
       "    <tr>\n",
       "      <th>2</th>\n",
       "      <td>10649.07</td>\n",
       "      <td>10799.00</td>\n",
       "      <td>9291.00</td>\n",
       "      <td>9696.31</td>\n",
       "      <td>1563408000</td>\n",
       "      <td>30779.80</td>\n",
       "      <td>3.121006e+08</td>\n",
       "    </tr>\n",
       "    <tr>\n",
       "      <th>3</th>\n",
       "      <td>10538.06</td>\n",
       "      <td>10777.21</td>\n",
       "      <td>10111.00</td>\n",
       "      <td>10649.07</td>\n",
       "      <td>1563494400</td>\n",
       "      <td>18921.67</td>\n",
       "      <td>1.978338e+08</td>\n",
       "    </tr>\n",
       "    <tr>\n",
       "      <th>4</th>\n",
       "      <td>10761.03</td>\n",
       "      <td>11112.31</td>\n",
       "      <td>10360.65</td>\n",
       "      <td>10538.06</td>\n",
       "      <td>1563580800</td>\n",
       "      <td>16334.01</td>\n",
       "      <td>1.753158e+08</td>\n",
       "    </tr>\n",
       "  </tbody>\n",
       "</table>\n",
       "</div>"
      ],
      "text/plain": [
       "      close      high       low      open        time  volumefrom  \\\n",
       "0   9422.72  11040.00   9350.00  10854.47  1563235200    39003.84   \n",
       "1   9696.31   9998.00   9071.00   9422.72  1563321600    34221.67   \n",
       "2  10649.07  10799.00   9291.00   9696.31  1563408000    30779.80   \n",
       "3  10538.06  10777.21  10111.00  10649.07  1563494400    18921.67   \n",
       "4  10761.03  11112.31  10360.65  10538.06  1563580800    16334.01   \n",
       "\n",
       "       volumeto  \n",
       "0  3.913329e+08  \n",
       "1  3.270446e+08  \n",
       "2  3.121006e+08  \n",
       "3  1.978338e+08  \n",
       "4  1.753158e+08  "
      ]
     },
     "execution_count": 2,
     "metadata": {},
     "output_type": "execute_result"
    }
   ],
   "source": [
    "url = \"https://min-api.cryptocompare.com/data/histoday?fsym=BTC&tsym=USD&limit=100&e=Coinbase&api_key={41795afb1f7c46907430d8039e1e3b6722609731b1986b22c0c9c3c8947efcf2}\"\n",
    "f = requests.get(url)\n",
    "ipdata = f.json()\n",
    "df = pd.DataFrame(ipdata['Data']).head(5)\n",
    "df.head()"
   ]
  }
 ],
 "metadata": {
  "kernelspec": {
   "display_name": "Python 3",
   "language": "python",
   "name": "python3"
  },
  "language_info": {
   "codemirror_mode": {
    "name": "ipython",
    "version": 3
   },
   "file_extension": ".py",
   "mimetype": "text/x-python",
   "name": "python",
   "nbconvert_exporter": "python",
   "pygments_lexer": "ipython3",
   "version": "3.7.2"
  }
 },
 "nbformat": 4,
 "nbformat_minor": 2
}
