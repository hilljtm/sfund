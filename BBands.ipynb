{
 "cells": [
  {
   "cell_type": "code",
   "execution_count": 1,
   "metadata": {},
   "outputs": [],
   "source": [
    "import requests\n",
    "import pandas as pd\n",
    "import numpy as np\n",
    "import matplotlib.pyplot as plt\n",
    "import seaborn as sns\n",
    "plt.style.use('ggplot')\n",
    "%matplotlib inline"
   ]
  },
  {
   "cell_type": "code",
   "execution_count": 2,
   "metadata": {},
   "outputs": [
    {
     "data": {
      "text/html": [
       "<div>\n",
       "<style scoped>\n",
       "    .dataframe tbody tr th:only-of-type {\n",
       "        vertical-align: middle;\n",
       "    }\n",
       "\n",
       "    .dataframe tbody tr th {\n",
       "        vertical-align: top;\n",
       "    }\n",
       "\n",
       "    .dataframe thead th {\n",
       "        text-align: right;\n",
       "    }\n",
       "</style>\n",
       "<table border=\"1\" class=\"dataframe\">\n",
       "  <thead>\n",
       "    <tr style=\"text-align: right;\">\n",
       "      <th></th>\n",
       "      <th>close</th>\n",
       "      <th>high</th>\n",
       "      <th>low</th>\n",
       "      <th>open</th>\n",
       "      <th>time</th>\n",
       "      <th>volumefrom</th>\n",
       "      <th>volumeto</th>\n",
       "    </tr>\n",
       "  </thead>\n",
       "  <tbody>\n",
       "    <tr>\n",
       "      <th>0</th>\n",
       "      <td>7859.79</td>\n",
       "      <td>8176.18</td>\n",
       "      <td>7780.85</td>\n",
       "      <td>8147.63</td>\n",
       "      <td>1570320000</td>\n",
       "      <td>7770.16</td>\n",
       "      <td>6.175305e+07</td>\n",
       "    </tr>\n",
       "    <tr>\n",
       "      <th>1</th>\n",
       "      <td>8209.00</td>\n",
       "      <td>8310.57</td>\n",
       "      <td>7762.35</td>\n",
       "      <td>7859.79</td>\n",
       "      <td>1570406400</td>\n",
       "      <td>9969.38</td>\n",
       "      <td>8.069116e+07</td>\n",
       "    </tr>\n",
       "    <tr>\n",
       "      <th>2</th>\n",
       "      <td>8180.00</td>\n",
       "      <td>8342.97</td>\n",
       "      <td>8107.26</td>\n",
       "      <td>8209.00</td>\n",
       "      <td>1570492800</td>\n",
       "      <td>5808.84</td>\n",
       "      <td>4.767487e+07</td>\n",
       "    </tr>\n",
       "    <tr>\n",
       "      <th>3</th>\n",
       "      <td>8590.00</td>\n",
       "      <td>8709.00</td>\n",
       "      <td>8121.00</td>\n",
       "      <td>8180.00</td>\n",
       "      <td>1570579200</td>\n",
       "      <td>13865.37</td>\n",
       "      <td>1.171438e+08</td>\n",
       "    </tr>\n",
       "    <tr>\n",
       "      <th>4</th>\n",
       "      <td>8587.50</td>\n",
       "      <td>8660.00</td>\n",
       "      <td>8452.50</td>\n",
       "      <td>8590.00</td>\n",
       "      <td>1570665600</td>\n",
       "      <td>7892.41</td>\n",
       "      <td>6.753165e+07</td>\n",
       "    </tr>\n",
       "  </tbody>\n",
       "</table>\n",
       "</div>"
      ],
      "text/plain": [
       "     close     high      low     open        time  volumefrom      volumeto\n",
       "0  7859.79  8176.18  7780.85  8147.63  1570320000     7770.16  6.175305e+07\n",
       "1  8209.00  8310.57  7762.35  7859.79  1570406400     9969.38  8.069116e+07\n",
       "2  8180.00  8342.97  8107.26  8209.00  1570492800     5808.84  4.767487e+07\n",
       "3  8590.00  8709.00  8121.00  8180.00  1570579200    13865.37  1.171438e+08\n",
       "4  8587.50  8660.00  8452.50  8590.00  1570665600     7892.41  6.753165e+07"
      ]
     },
     "execution_count": 2,
     "metadata": {},
     "output_type": "execute_result"
    }
   ],
   "source": [
    "url = \"https://min-api.cryptocompare.com/data/histoday?fsym=BTC&tsym=USD&limit=10&e=Coinbase\"\n",
    "f = requests.get(url)\n",
    "ipdata = f.json()\n",
    "pd.DataFrame(ipdata['Data']).head(5)"
   ]
  },
  {
   "cell_type": "code",
   "execution_count": 7,
   "metadata": {},
   "outputs": [
    {
     "name": "stdout",
     "output_type": "stream",
     "text": [
      "<function BBands at 0x11d377ae8>\n"
     ]
    }
   ],
   "source": [
    "n = 50\n",
    "\n",
    "def BBands(ipdata, window=n):\n",
    "    MA = ipdata.close.rolling(window=n).mean()\n",
    "    SD = ipdata.close.rolling(window=n).std()\n",
    "    Data['UpperBB'] = MA + (2 * SD)\n",
    "    Data['LowerBB'] = MA - (2 * SD)\n"
   ]
  },
  {
   "cell_type": "code",
   "execution_count": 8,
   "metadata": {},
   "outputs": [
    {
     "ename": "AttributeError",
     "evalue": "'dict' object has no attribute 'close'",
     "output_type": "error",
     "traceback": [
      "\u001b[0;31m---------------------------------------------------------------------------\u001b[0m",
      "\u001b[0;31mAttributeError\u001b[0m                            Traceback (most recent call last)",
      "\u001b[0;32m<ipython-input-8-f0fbcc155041>\u001b[0m in \u001b[0;36m<module>\u001b[0;34m\u001b[0m\n\u001b[0;32m----> 1\u001b[0;31m \u001b[0mdf\u001b[0m \u001b[0;34m=\u001b[0m \u001b[0mpd\u001b[0m\u001b[0;34m.\u001b[0m\u001b[0mconcat\u001b[0m\u001b[0;34m(\u001b[0m\u001b[0;34m[\u001b[0m\u001b[0mipdata\u001b[0m\u001b[0;34m.\u001b[0m\u001b[0mclose\u001b[0m\u001b[0;34m,\u001b[0m \u001b[0mipdata\u001b[0m\u001b[0;34m.\u001b[0m\u001b[0mUpperBB\u001b[0m\u001b[0;34m,\u001b[0m \u001b[0mipdata\u001b[0m\u001b[0;34m.\u001b[0m\u001b[0mLowerBB\u001b[0m\u001b[0;34m]\u001b[0m\u001b[0;34m)\u001b[0m\u001b[0;34m\u001b[0m\u001b[0;34m\u001b[0m\u001b[0m\n\u001b[0m\u001b[1;32m      2\u001b[0m \u001b[0;34m\u001b[0m\u001b[0m\n\u001b[1;32m      3\u001b[0m \u001b[0mplt\u001b[0m\u001b[0;34m.\u001b[0m\u001b[0mshow\u001b[0m\u001b[0;34m(\u001b[0m\u001b[0maxis\u001b[0m\u001b[0;34m=\u001b[0m\u001b[0;36m1\u001b[0m\u001b[0;34m,\u001b[0m \u001b[0mgrid\u001b[0m\u001b[0;34m=\u001b[0m\u001b[0;32mTrue\u001b[0m\u001b[0;34m)\u001b[0m\u001b[0;34m\u001b[0m\u001b[0;34m\u001b[0m\u001b[0m\n",
      "\u001b[0;31mAttributeError\u001b[0m: 'dict' object has no attribute 'close'"
     ]
    }
   ],
   "source": [
    "df = pd.concat([ipdata.close, ipdata.UpperBB, ipdata.LowerBB])\n",
    "\n",
    "plt.show(axis=1, grid=True)"
   ]
  },
  {
   "cell_type": "code",
   "execution_count": null,
   "metadata": {},
   "outputs": [],
   "source": []
  }
 ],
 "metadata": {
  "kernelspec": {
   "display_name": "Python 3",
   "language": "python",
   "name": "python3"
  },
  "language_info": {
   "codemirror_mode": {
    "name": "ipython",
    "version": 3
   },
   "file_extension": ".py",
   "mimetype": "text/x-python",
   "name": "python",
   "nbconvert_exporter": "python",
   "pygments_lexer": "ipython3",
   "version": "3.7.2"
  }
 },
 "nbformat": 4,
 "nbformat_minor": 2
}
