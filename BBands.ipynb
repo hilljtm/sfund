{
 "cells": [
  {
   "cell_type": "code",
   "execution_count": null,
   "metadata": {},
   "outputs": [],
   "source": [
    "import requests\n",
    "import pandas as pd\n",
    "import numpy as np\n",
    "import matplotlib.pyplot as plt\n",
    "import seaborn as sns\n",
    "plt.style.use('ggplot')\n",
    "%matplotlib inline"
   ]
  },
  {
   "cell_type": "code",
   "execution_count": null,
   "metadata": {},
   "outputs": [],
   "source": [
    "url = \"https://min-api.cryptocompare.com/data/histoday?fsym=BTC&tsym=USD&limit=100&e=Coinbase&api_key={41795afb1f7c46907430d8039e1e3b6722609731b1986b22c0c9c3c8947efcf2}\"\n",
    "f = requests.get(url)\n",
    "ipdata = f.json()\n",
    "df = pd.DataFrame(ipdata['Data']).head(5)\n",
    "df.head()"
   ]
  },
  {
   "cell_type": "code",
   "execution_count": null,
   "metadata": {},
   "outputs": [],
   "source": [
    "def BBands(df, window=50):\n",
    "    MA = df.close.rolling(window=n).mean()\n",
    "    SD = df.close.rolling(window=n).std()\n",
    "    df[['UpperBB']] = MA + (2 * SD)\n",
    "    df[['LowerBB']] = MA - (2 * SD)"
   ]
  },
  {
   "cell_type": "code",
   "execution_count": null,
   "metadata": {},
   "outputs": [],
   "source": [
    "df['UpperBB']"
   ]
  },
  {
   "cell_type": "code",
   "execution_count": null,
   "metadata": {},
   "outputs": [],
   "source": []
  }
 ],
 "metadata": {
  "kernelspec": {
   "display_name": "Python 3",
   "language": "python",
   "name": "python3"
  },
  "language_info": {
   "codemirror_mode": {
    "name": "ipython",
    "version": 3
   },
   "file_extension": ".py",
   "mimetype": "text/x-python",
   "name": "python",
   "nbconvert_exporter": "python",
   "pygments_lexer": "ipython3",
   "version": "3.7.2"
  }
 },
 "nbformat": 4,
 "nbformat_minor": 2
}
