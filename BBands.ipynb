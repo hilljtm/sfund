{
 "cells": [
  {
   "cell_type": "code",
   "execution_count": 1,
   "metadata": {},
   "outputs": [],
   "source": [
    "import requests\n",
    "import pandas as pd\n",
    "import numpy as np\n",
    "import matplotlib.pyplot as plt\n",
    "import seaborn as sns\n",
    "plt.style.use('ggplot')\n",
    "%matplotlib inline"
   ]
  },
  {
   "cell_type": "code",
   "execution_count": 2,
   "metadata": {},
   "outputs": [
    {
     "data": {
      "text/html": [
       "<div>\n",
       "<style scoped>\n",
       "    .dataframe tbody tr th:only-of-type {\n",
       "        vertical-align: middle;\n",
       "    }\n",
       "\n",
       "    .dataframe tbody tr th {\n",
       "        vertical-align: top;\n",
       "    }\n",
       "\n",
       "    .dataframe thead th {\n",
       "        text-align: right;\n",
       "    }\n",
       "</style>\n",
       "<table border=\"1\" class=\"dataframe\">\n",
       "  <thead>\n",
       "    <tr style=\"text-align: right;\">\n",
       "      <th></th>\n",
       "      <th>close</th>\n",
       "      <th>high</th>\n",
       "      <th>low</th>\n",
       "      <th>open</th>\n",
       "      <th>time</th>\n",
       "      <th>volumefrom</th>\n",
       "      <th>volumeto</th>\n",
       "    </tr>\n",
       "  </thead>\n",
       "  <tbody>\n",
       "    <tr>\n",
       "      <th>0</th>\n",
       "      <td>8267.33</td>\n",
       "      <td>8826.00</td>\n",
       "      <td>8226.00</td>\n",
       "      <td>8587.50</td>\n",
       "      <td>1570752000</td>\n",
       "      <td>11975.39</td>\n",
       "      <td>1.012384e+08</td>\n",
       "    </tr>\n",
       "    <tr>\n",
       "      <th>1</th>\n",
       "      <td>8309.03</td>\n",
       "      <td>8425.00</td>\n",
       "      <td>8261.46</td>\n",
       "      <td>8267.33</td>\n",
       "      <td>1570838400</td>\n",
       "      <td>3001.53</td>\n",
       "      <td>2.502358e+07</td>\n",
       "    </tr>\n",
       "    <tr>\n",
       "      <th>2</th>\n",
       "      <td>8282.97</td>\n",
       "      <td>8469.02</td>\n",
       "      <td>8146.47</td>\n",
       "      <td>8309.03</td>\n",
       "      <td>1570924800</td>\n",
       "      <td>5459.53</td>\n",
       "      <td>4.549233e+07</td>\n",
       "    </tr>\n",
       "    <tr>\n",
       "      <th>3</th>\n",
       "      <td>8355.00</td>\n",
       "      <td>8409.00</td>\n",
       "      <td>8215.66</td>\n",
       "      <td>8282.97</td>\n",
       "      <td>1571011200</td>\n",
       "      <td>4401.82</td>\n",
       "      <td>3.657583e+07</td>\n",
       "    </tr>\n",
       "    <tr>\n",
       "      <th>4</th>\n",
       "      <td>8162.44</td>\n",
       "      <td>8420.00</td>\n",
       "      <td>8085.65</td>\n",
       "      <td>8355.00</td>\n",
       "      <td>1571097600</td>\n",
       "      <td>7919.56</td>\n",
       "      <td>6.510995e+07</td>\n",
       "    </tr>\n",
       "  </tbody>\n",
       "</table>\n",
       "</div>"
      ],
      "text/plain": [
       "     close     high      low     open        time  volumefrom      volumeto\n",
       "0  8267.33  8826.00  8226.00  8587.50  1570752000    11975.39  1.012384e+08\n",
       "1  8309.03  8425.00  8261.46  8267.33  1570838400     3001.53  2.502358e+07\n",
       "2  8282.97  8469.02  8146.47  8309.03  1570924800     5459.53  4.549233e+07\n",
       "3  8355.00  8409.00  8215.66  8282.97  1571011200     4401.82  3.657583e+07\n",
       "4  8162.44  8420.00  8085.65  8355.00  1571097600     7919.56  6.510995e+07"
      ]
     },
     "execution_count": 2,
     "metadata": {},
     "output_type": "execute_result"
    }
   ],
   "source": [
    "url = \"https://min-api.cryptocompare.com/data/histoday?fsym=BTC&tsym=USD&limit=10&e=Coinbase\"\n",
    "f = requests.get(url)\n",
    "ipdata = f.json()\n",
    "df = pd.DataFrame(ipdata['Data']).head(5)"
   ]
  },
  {
   "cell_type": "code",
   "execution_count": 3,
   "metadata": {},
   "outputs": [],
   "source": [
    "n = 50\n",
    "\n",
    "def BBands(ipdata, window=n):\n",
    "    MA = ipdata.close.rolling(window=n).mean()\n",
    "    SD = ipdata.close.rolling(window=n).std()\n",
    "    Data['UpperBB'] = MA + (2 * SD)\n",
    "    Data['LowerBB'] = MA - (2 * SD)\n"
   ]
  },
  {
   "cell_type": "code",
   "execution_count": 5,
   "metadata": {},
   "outputs": [
    {
     "ename": "AttributeError",
     "evalue": "'function' object has no attribute 'UpperBB'",
     "output_type": "error",
     "traceback": [
      "\u001b[0;31m---------------------------------------------------------------------------\u001b[0m",
      "\u001b[0;31mAttributeError\u001b[0m                            Traceback (most recent call last)",
      "\u001b[0;32m<ipython-input-5-fb37333b3290>\u001b[0m in \u001b[0;36m<module>\u001b[0;34m\u001b[0m\n\u001b[0;32m----> 1\u001b[0;31m \u001b[0mdf\u001b[0m \u001b[0;34m=\u001b[0m \u001b[0mpd\u001b[0m\u001b[0;34m.\u001b[0m\u001b[0mconcat\u001b[0m\u001b[0;34m(\u001b[0m\u001b[0;34m[\u001b[0m\u001b[0mBBands\u001b[0m\u001b[0;34m,\u001b[0m \u001b[0mBBands\u001b[0m\u001b[0;34m.\u001b[0m\u001b[0mUpperBB\u001b[0m\u001b[0;34m,\u001b[0m \u001b[0mBBands\u001b[0m\u001b[0;34m.\u001b[0m\u001b[0mLowerBB\u001b[0m\u001b[0;34m]\u001b[0m\u001b[0;34m)\u001b[0m\u001b[0;34m\u001b[0m\u001b[0;34m\u001b[0m\u001b[0m\n\u001b[0m\u001b[1;32m      2\u001b[0m \u001b[0;34m\u001b[0m\u001b[0m\n\u001b[1;32m      3\u001b[0m \u001b[0mplt\u001b[0m\u001b[0;34m.\u001b[0m\u001b[0mshow\u001b[0m\u001b[0;34m(\u001b[0m\u001b[0maxis\u001b[0m\u001b[0;34m=\u001b[0m\u001b[0;36m1\u001b[0m\u001b[0;34m,\u001b[0m \u001b[0mgrid\u001b[0m\u001b[0;34m=\u001b[0m\u001b[0;32mTrue\u001b[0m\u001b[0;34m)\u001b[0m\u001b[0;34m\u001b[0m\u001b[0;34m\u001b[0m\u001b[0m\n",
      "\u001b[0;31mAttributeError\u001b[0m: 'function' object has no attribute 'UpperBB'"
     ]
    }
   ],
   "source": [
    "df = pd.concat([df.close, df.UpperBB, df.LowerBB])\n",
    "\n",
    "plt.show(axis=1, grid=True)"
   ]
  },
  {
   "cell_type": "code",
   "execution_count": null,
   "metadata": {},
   "outputs": [],
   "source": []
  }
 ],
 "metadata": {
  "kernelspec": {
   "display_name": "Python 3",
   "language": "python",
   "name": "python3"
  },
  "language_info": {
   "codemirror_mode": {
    "name": "ipython",
    "version": 3
   },
   "file_extension": ".py",
   "mimetype": "text/x-python",
   "name": "python",
   "nbconvert_exporter": "python",
   "pygments_lexer": "ipython3",
   "version": "3.7.2"
  }
 },
 "nbformat": 4,
 "nbformat_minor": 2
}
