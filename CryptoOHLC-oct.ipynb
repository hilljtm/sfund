{
 "cells": [
  {
   "cell_type": "code",
   "execution_count": null,
   "metadata": {},
   "outputs": [],
   "source": [
    "# Crypto heatmap"
   ]
  },
  {
   "cell_type": "code",
   "execution_count": null,
   "metadata": {},
   "outputs": [],
   "source": [
    "import requests\n",
    "import pandas as pd\n",
    "import numpy as np\n",
    "import matplotlib.pyplot as plt\n",
    "import seaborn as sns\n",
    "plt.style.use('ggplot')\n",
    "%matplotlib inline"
   ]
  },
  {
   "cell_type": "code",
   "execution_count": null,
   "metadata": {},
   "outputs": [],
   "source": [
    "url = \"https://min-api.cryptocompare.com/data/histoday?fsym=BTC&tsym=USD&limit=10&e=Coinbase\"\n",
    "f = requests.get(url)\n",
    "ipdata = f.json()\n",
    "pd.DataFrame(ipdata['Data']).head(5)"
   ]
  },
  {
   "cell_type": "code",
   "execution_count": null,
   "metadata": {},
   "outputs": [],
   "source": [
    "def get_data(date):\n",
    "    \"\"\"query API for 2000 days historical price data starting from \"date\".\"\"\"\n",
    "    url = \"https://min-api.cryptocompare.com/data/histoday?fsym=BTC&tsym=USD&limit=2000&toTs={}\".format(\n",
    "        date)\n",
    "    r = requests.get(url)\n",
    "    ipdata = r.json()\n",
    "    return ipdata"
   ]
  },
  {
   "cell_type": "code",
   "execution_count": null,
   "metadata": {},
   "outputs": [],
   "source": [
    "def get_df(from_date, to_date):\n",
    "    date = to_date\n",
    "    holder = []\n",
    "    # while earliest date returned is later than the earliest data requested, keep querying API # and adding results to list\n",
    "    while date > from_date:\n",
    "        data = get_data(date)\n",
    "        holder.append(pd.DataFrame(data['Data']))\n",
    "        date = data['TimeFrom']\n",
    "        # join together all api queries from list\n",
    "        df = pd.concat(holder, axis=0)\n",
    "        # remove data points from before from_date\n",
    "        df = df[df['time'] > from_date]\n",
    "        # convert to timestamp\n",
    "        df['time'] = pd.to_datetime(df['time'], unit='s')\n",
    "        # make datafrom index the time\n",
    "        df.set_index('time', inplace=True)\n",
    "        # sort in time order\n",
    "        df.sort_index(ascending=False, inplace=True)\n",
    "        return df"
   ]
  },
  {
   "cell_type": "code",
   "execution_count": null,
   "metadata": {},
   "outputs": [],
   "source": [
    "df = get_df(1569801600, 1572029538)"
   ]
  },
  {
   "cell_type": "code",
   "execution_count": null,
   "metadata": {},
   "outputs": [],
   "source": [
    "fig, ax = plt.subplots(figsize=(20, 10))\n",
    "ax.plot(df[['low', 'close', 'high']])\n",
    "ax.set_ylabel('BTC Price (USD)')\n",
    "ax.set_xlabel('Date')\n",
    "ax.legend(['Low', 'Close', 'High'])"
   ]
  },
  {
   "cell_type": "code",
   "execution_count": null,
   "metadata": {},
   "outputs": [],
   "source": [
    "def get_data_spec(coin, date, time_period):\n",
    "    \"\"\"query api for historical data starting from \"date\".\"\"\"\n",
    "    url = \"https://min-api.cryptocompare.com/data/{}?fsym={}&tsym=USD&Limit=2000&toTs={}\".format(\n",
    "        time_period, coin, date)\n",
    "    r = requests.get(url)\n",
    "    ipdata = r.json()\n",
    "    return ipdata"
   ]
  },
  {
   "cell_type": "code",
   "execution_count": null,
   "metadata": {},
   "outputs": [],
   "source": [
    "def get_df_spec(time_period, coin, from_date, to_date):\n",
    "    \"\"\" get historical price data between dates. If further apart query multiple times.\"\"\"\n",
    "    date = to_date\n",
    "    holder = []\n",
    "    while date > from_date:\n",
    "        data = get_data_spec(coin, date, time_period)\n",
    "        holder.append(pd.DataFrame(data['Data']))\n",
    "        date = data['TimeFrom']\n",
    "    df = pd.concat(holder, axis=0)\n",
    "    df = df[df['time'] > from_date]\n",
    "    df['time'] = pd.to_datetime(df['time'], unit='s')\n",
    "    df.set_index('time', inplace=True)\n",
    "    df.sort_index(ascending=False, inplace=True)\n",
    "    df.rename(columns={'close': coin}, inplace=True)\n",
    "    return df[coin]"
   ]
  },
  {
   "cell_type": "code",
   "execution_count": null,
   "metadata": {},
   "outputs": [],
   "source": [
    "coins = ['BTC', 'ETH', 'LTC', 'DOGE']"
   ]
  },
  {
   "cell_type": "code",
   "execution_count": null,
   "metadata": {},
   "outputs": [],
   "source": [
    "holder = []\n",
    "from_date = 1569801600  # 09-30-2019\n",
    "to_date = 1572029538  # Today\n",
    "time_period = 'histoday'\n",
    "for coin in coins:\n",
    "    holder.append(get_df_spec(time_period, coin, from_date, to_date))\n",
    "df = pd.concat(holder, axis=1)"
   ]
  },
  {
   "cell_type": "code",
   "execution_count": null,
   "metadata": {},
   "outputs": [],
   "source": [
    "# convert each column of df to be rate of return instead of price\n",
    "df = df.divide(df.shift()) - 1\n",
    "df_norm_col = (df - df.mean()) / df.std()"
   ]
  },
  {
   "cell_type": "code",
   "execution_count": null,
   "metadata": {},
   "outputs": [],
   "source": [
    "import seaborn as sns\n",
    "plt.figure(figsize=(15, 10))\n",
    "cmap = sns.diverging_palette(220, 10, as_cmap=True)\n",
    "\n",
    "sns.heatmap(\n",
    "    df.corr(),\n",
    "    annot=True,\n",
    "    annot_kws={\"size\": 10},\n",
    "    linewidth=0.5,\n",
    "    cmap=cmap)"
   ]
  },
  {
   "cell_type": "code",
   "execution_count": null,
   "metadata": {},
   "outputs": [],
   "source": [
    "import matplotlib.pyplot as plt\n",
    "import seaborn as sns\n",
    "plt.figure(figsize=(15, 10))\n",
    "\n",
    "sns.pairplot(df, kind='reg', palette='Set2')\n",
    "plt.show()"
   ]
  }
 ],
 "metadata": {
  "kernelspec": {
   "display_name": "Python 3",
   "language": "python",
   "name": "python3"
  },
  "language_info": {
   "codemirror_mode": {
    "name": "ipython",
    "version": 3
   },
   "file_extension": ".py",
   "mimetype": "text/x-python",
   "name": "python",
   "nbconvert_exporter": "python",
   "pygments_lexer": "ipython3",
   "version": "3.7.2"
  }
 },
 "nbformat": 4,
 "nbformat_minor": 4
}
