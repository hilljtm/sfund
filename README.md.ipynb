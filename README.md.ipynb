{
 "cells": [
  {
   "cell_type": "markdown",
   "metadata": {},
   "source": [
    "<h1>Crypto currency heatmap</h1>\n",
    "\n",
    "## Purpose\n",
    "The purpose of this notebook is to see the correlations between different crypto currencies using a heatmap, and checking the returns using statistical methods. \n",
    "\n",
    "## Methodology\n",
    "Crypto currencies tend to be heavily correlated, especially alt-coins. When bitcoin is performing well or has an aggressive move, alt-coins tend to underperform.\n",
    "\n",
    "## WIP - improvements\n",
    "Make February plot \n",
    "\n",
    "Notable TODOs:\n",
    "- Clean up code so execution time is faster;\n",
    "- Make February plot;\n",
    "- Use mask to clean up heatmap.\n"
   ]
  },
  {
   "cell_type": "markdown",
   "metadata": {},
   "source": [
    "# Setup\n",
    "\n",
    "## Library import\n",
    "We import all the required Python libraries"
   ]
  },
  {
   "cell_type": "code",
   "execution_count": 1,
   "metadata": {},
   "outputs": [],
   "source": [
    "# API Calls\n",
    "import requests\n",
    "\n",
    "# Data manipulation\n",
    "import pandas as pd\n",
    "import numpy as np\n",
    "\n",
    "# Visualizations\n",
    "import matplotlib.pyplot as plt\n",
    "import seaborn as sns\n",
    "\n",
    "# Statistics\n",
    "import scipy"
   ]
  },
  {
   "cell_type": "markdown",
   "metadata": {},
   "source": [
    "\n",
    "# Data import\n",
    "We retrieve all the required data for the analysis."
   ]
  },
  {
   "cell_type": "code",
   "execution_count": 2,
   "metadata": {},
   "outputs": [
    {
     "data": {
      "text/html": [
       "<div>\n",
       "<style scoped>\n",
       "    .dataframe tbody tr th:only-of-type {\n",
       "        vertical-align: middle;\n",
       "    }\n",
       "\n",
       "    .dataframe tbody tr th {\n",
       "        vertical-align: top;\n",
       "    }\n",
       "\n",
       "    .dataframe thead th {\n",
       "        text-align: right;\n",
       "    }\n",
       "</style>\n",
       "<table border=\"1\" class=\"dataframe\">\n",
       "  <thead>\n",
       "    <tr style=\"text-align: right;\">\n",
       "      <th></th>\n",
       "      <th>time</th>\n",
       "      <th>close</th>\n",
       "      <th>high</th>\n",
       "      <th>low</th>\n",
       "      <th>open</th>\n",
       "      <th>volumefrom</th>\n",
       "      <th>volumeto</th>\n",
       "    </tr>\n",
       "  </thead>\n",
       "  <tbody>\n",
       "    <tr>\n",
       "      <th>0</th>\n",
       "      <td>1581379200</td>\n",
       "      <td>10270.01</td>\n",
       "      <td>10400.00</td>\n",
       "      <td>9706.0</td>\n",
       "      <td>9851.78</td>\n",
       "      <td>16160.17</td>\n",
       "      <td>1.623668e+08</td>\n",
       "    </tr>\n",
       "    <tr>\n",
       "      <th>1</th>\n",
       "      <td>1581465600</td>\n",
       "      <td>10351.13</td>\n",
       "      <td>10483.86</td>\n",
       "      <td>10250.0</td>\n",
       "      <td>10270.01</td>\n",
       "      <td>13601.13</td>\n",
       "      <td>1.407570e+08</td>\n",
       "    </tr>\n",
       "    <tr>\n",
       "      <th>2</th>\n",
       "      <td>1581552000</td>\n",
       "      <td>10236.49</td>\n",
       "      <td>10522.51</td>\n",
       "      <td>10083.1</td>\n",
       "      <td>10351.13</td>\n",
       "      <td>15985.79</td>\n",
       "      <td>1.644893e+08</td>\n",
       "    </tr>\n",
       "    <tr>\n",
       "      <th>3</th>\n",
       "      <td>1581638400</td>\n",
       "      <td>10371.33</td>\n",
       "      <td>10395.66</td>\n",
       "      <td>10102.5</td>\n",
       "      <td>10236.49</td>\n",
       "      <td>8025.16</td>\n",
       "      <td>8.245419e+07</td>\n",
       "    </tr>\n",
       "    <tr>\n",
       "      <th>4</th>\n",
       "      <td>1581724800</td>\n",
       "      <td>9911.22</td>\n",
       "      <td>10400.00</td>\n",
       "      <td>9750.0</td>\n",
       "      <td>10371.33</td>\n",
       "      <td>10903.02</td>\n",
       "      <td>1.096473e+08</td>\n",
       "    </tr>\n",
       "  </tbody>\n",
       "</table>\n",
       "</div>"
      ],
      "text/plain": [
       "         time     close      high      low      open  volumefrom      volumeto\n",
       "0  1581379200  10270.01  10400.00   9706.0   9851.78    16160.17  1.623668e+08\n",
       "1  1581465600  10351.13  10483.86  10250.0  10270.01    13601.13  1.407570e+08\n",
       "2  1581552000  10236.49  10522.51  10083.1  10351.13    15985.79  1.644893e+08\n",
       "3  1581638400  10371.33  10395.66  10102.5  10236.49     8025.16  8.245419e+07\n",
       "4  1581724800   9911.22  10400.00   9750.0  10371.33    10903.02  1.096473e+08"
      ]
     },
     "execution_count": 2,
     "metadata": {},
     "output_type": "execute_result"
    }
   ],
   "source": [
    "url = \"https://min-api.cryptocompare.com/data/histoday?fsym=BTC&tsym=USD&limit=10&e=Coinbase\"\n",
    "f = requests.get(url)\n",
    "ipdata = f.json()\n",
    "pd.DataFrame(ipdata['Data']).head(5)"
   ]
  }
 ],
 "metadata": {
  "kernelspec": {
   "display_name": "Python 3",
   "language": "python",
   "name": "python3"
  },
  "language_info": {
   "codemirror_mode": {
    "name": "ipython",
    "version": 3
   },
   "file_extension": ".py",
   "mimetype": "text/x-python",
   "name": "python",
   "nbconvert_exporter": "python",
   "pygments_lexer": "ipython3",
   "version": "3.7.2"
  }
 },
 "nbformat": 4,
 "nbformat_minor": 2
}
